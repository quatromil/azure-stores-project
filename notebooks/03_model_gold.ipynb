{
  "cells": [
    {
      "cell_type": "markdown",
      "metadata": {
        "nteract": {
          "transient": {
            "deleting": false
          }
        }
      },
      "source": [
        "## Leer data Delta Silver"
      ]
    },
    {
      "cell_type": "code",
      "execution_count": 32,
      "metadata": {},
      "outputs": [
        {
          "data": {
            "application/vnd.livy.statement-meta+json": {
              "execution_finish_time": "2025-10-25T16:16:43.5751717Z",
              "execution_start_time": "2025-10-25T16:16:41.7402568Z",
              "livy_statement_state": "available",
              "normalized_state": "finished",
              "parent_msg_id": "93ed6d1b-60b6-4f97-a831-bfc17b346c69",
              "queued_time": "2025-10-25T16:16:41.5608636Z",
              "session_id": "61",
              "session_start_time": null,
              "spark_jobs": null,
              "spark_pool": "sparkpoolnew",
              "state": "finished",
              "statement_id": 33,
              "statement_ids": [
                33
              ]
            },
            "text/plain": [
              "StatementMeta(sparkpoolnew, 61, 33, Finished, Available, Finished)"
            ]
          },
          "metadata": {},
          "output_type": "display_data"
        }
      ],
      "source": [
        "from pyspark.sql.functions import col\n",
        "from pyspark.sql import SparkSession\n",
        "\n",
        "# Variables\n",
        "container_name = \"datalake\"\n",
        "root_silver_folder = \"silver\"\n",
        "root_processed_folder = \"processed\"\n",
        "\n",
        "show_debug = False\n",
        "\n",
        "# Crear sesión Spark\n",
        "spark = SparkSession.builder.appName(\"ReadDeltaData\").getOrCreate()\n",
        "\n",
        "# Rutas del Contenedor en ADLS Gen2\n",
        "sales_delta_path = f\"abfss://{container_name}@adlsstoresproject.dfs.core.windows.net/{root_silver_folder}/sales/\"\n",
        "customers_delta_path = f\"abfss://{container_name}@adlsstoresproject.dfs.core.windows.net/{root_silver_folder}/customers/\"\n",
        "products_delta_path = f\"abfss://{container_name}@adlsstoresproject.dfs.core.windows.net/{root_processed_folder}/products/\"\n",
        "suppliers_delta_path = f\"abfss://{container_name}@adlsstoresproject.dfs.core.windows.net/{root_processed_folder}/suppliers/\"\n",
        "\n",
        "# Leer los archivos Delta\n",
        "df_products = spark.read.format(\"delta\").load(products_delta_path)\n",
        "df_suppliers = spark.read.format(\"delta\").load(suppliers_delta_path)\n",
        "\n",
        "# Estos se deben leer filtrados para únicamente obtener los registros que no se han validado\n",
        "df_sales = (\n",
        "    spark.read.format(\"delta\")\n",
        "    .load(sales_delta_path)\n",
        "    .where((col(\"is_validated\") == False) | (col(\"is_validated\") == 0))\n",
        ")\n",
        "\n",
        "df_customers = (\n",
        "    spark.read.format(\"delta\")\n",
        "    .load(customers_delta_path)\n",
        "    .where((col(\"is_validated\") == False) | (col(\"is_validated\") == 0))\n",
        ")\n",
        "\n",
        "# Mostrar los primeros registros\n",
        "if (show_debug == True):\n",
        "    print(\"Sales:\")\n",
        "    df_sales.show(3)\n",
        "\n",
        "    print(\"Customers:\")\n",
        "    df_customers.show(3)\n",
        "\n",
        "    print(\"Products:\")\n",
        "    df_products.show(3)\n",
        "\n",
        "    print(\"Suppliers:\")\n",
        "    df_suppliers.show(3)"
      ]
    },
    {
      "cell_type": "markdown",
      "metadata": {
        "nteract": {
          "transient": {
            "deleting": false
          }
        }
      },
      "source": [
        "## Creación tablas de capa Gold"
      ]
    },
    {
      "cell_type": "code",
      "execution_count": 33,
      "metadata": {},
      "outputs": [
        {
          "data": {
            "application/vnd.livy.statement-meta+json": {
              "execution_finish_time": "2025-10-25T16:16:43.8071811Z",
              "execution_start_time": "2025-10-25T16:16:43.5856219Z",
              "livy_statement_state": "available",
              "normalized_state": "finished",
              "parent_msg_id": "10789506-eabd-473f-b8a2-9aaa3a5c0f2d",
              "queued_time": "2025-10-25T16:16:41.6022866Z",
              "session_id": "61",
              "session_start_time": null,
              "spark_jobs": null,
              "spark_pool": "sparkpoolnew",
              "state": "finished",
              "statement_id": 34,
              "statement_ids": [
                34
              ]
            },
            "text/plain": [
              "StatementMeta(sparkpoolnew, 61, 34, Finished, Available, Finished)"
            ]
          },
          "metadata": {},
          "output_type": "display_data"
        }
      ],
      "source": [
        "from pyspark.sql import functions as F\n",
        "\n",
        "# Tabla Gold: Cantidad de ventas por store y año\n",
        "gold_sales_count_by_store_year = (\n",
        "    df_sales.groupBy(\"store\", \"year\")\n",
        "    .agg(F.count(\"*\").alias(\"sales_count\"))\n",
        "    .orderBy(\"store\", \"year\")\n",
        ")\n",
        "\n",
        "# Tabla Gold: Total de ventas por store y año\n",
        "gold_sales_total_by_store_year = (\n",
        "    df_sales.groupBy(\"store\", \"year\")\n",
        "    .agg(F.sum(\"total_amount\").alias(\"total_sales\"))\n",
        "    .orderBy(\"store\", \"year\")\n",
        ")\n",
        "\n",
        "# Tabla Gold: Top 15 productos más vendidos\n",
        "gold_top15_products = (\n",
        "    df_sales.groupBy(\"product_id\")\n",
        "    .agg(F.sum(\"quantity\").alias(\"total_quantity\"))\n",
        "    .join(df_products.select(\"product_id\", \"product_name\"), \"product_id\", \"left\")\n",
        "    .orderBy(F.desc(\"total_quantity\"))\n",
        "    .limit(15)\n",
        ")\n",
        "\n",
        "# Mostrar resultados\n",
        "if (show_debug == True):\n",
        "    gold_sales_count_by_store_year.show()\n",
        "    gold_sales_total_by_store_year.show()\n",
        "    gold_top15_products.select(\"product_id\", \"product_name\", \"total_quantity\").show()"
      ]
    },
    {
      "cell_type": "markdown",
      "metadata": {
        "nteract": {
          "transient": {
            "deleting": false
          }
        }
      },
      "source": [
        "## Configuración Base de Datos\n",
        "#### NOTA: Lo ideal es que estos valores sean guardados en Key Vault"
      ]
    },
    {
      "cell_type": "code",
      "execution_count": null,
      "metadata": {},
      "outputs": [
        {
          "data": {
            "application/vnd.livy.statement-meta+json": {
              "execution_finish_time": "2025-10-25T16:16:44.0758227Z",
              "execution_start_time": "2025-10-25T16:16:43.817172Z",
              "livy_statement_state": "available",
              "normalized_state": "finished",
              "parent_msg_id": "2ae6d39c-fa2f-4e85-97bb-3df00d14d3b1",
              "queued_time": "2025-10-25T16:16:41.7436477Z",
              "session_id": "61",
              "session_start_time": null,
              "spark_jobs": null,
              "spark_pool": "sparkpoolnew",
              "state": "finished",
              "statement_id": 35,
              "statement_ids": [
                35
              ]
            },
            "text/plain": [
              "StatementMeta(sparkpoolnew, 61, 35, Finished, Available, Finished)"
            ]
          },
          "metadata": {},
          "output_type": "display_data"
        }
      ],
      "source": [
        "# Configuración JDBC\n",
        "server_db = \"sqlserver-stores.database.windows.net\"\n",
        "jdbc_url = f\"jdbc:sqlserver://{server_db}:1433;database=stores-sql-db-gold\"\n",
        "usuario = \"useruser\"\n",
        "password = \"********\""
      ]
    },
    {
      "cell_type": "code",
      "execution_count": 35,
      "metadata": {},
      "outputs": [
        {
          "data": {
            "application/vnd.livy.statement-meta+json": {
              "execution_finish_time": "2025-10-25T16:16:58.7248913Z",
              "execution_start_time": "2025-10-25T16:16:44.0860166Z",
              "livy_statement_state": "available",
              "normalized_state": "finished",
              "parent_msg_id": "5e1898b8-f655-44c8-86b8-767d60a857f8",
              "queued_time": "2025-10-25T16:16:41.7989074Z",
              "session_id": "61",
              "session_start_time": null,
              "spark_jobs": null,
              "spark_pool": "sparkpoolnew",
              "state": "finished",
              "statement_id": 36,
              "statement_ids": [
                36
              ]
            },
            "text/plain": [
              "StatementMeta(sparkpoolnew, 61, 36, Finished, Available, Finished)"
            ]
          },
          "metadata": {},
          "output_type": "display_data"
        }
      ],
      "source": [
        "# Guardar Tablas en Database:\n",
        "gold_sales_count_by_store_year.write \\\n",
        "    .format(\"jdbc\") \\\n",
        "    .option(\"url\", jdbc_url) \\\n",
        "    .option(\"dbtable\", \"gold_sales_count_by_store_year\") \\\n",
        "    .option(\"user\", usuario) \\\n",
        "    .option(\"password\", password) \\\n",
        "    .mode(\"overwrite\") \\\n",
        "    .save()\n",
        "\n",
        "gold_sales_total_by_store_year.write \\\n",
        "    .format(\"jdbc\") \\\n",
        "    .option(\"url\", jdbc_url) \\\n",
        "    .option(\"dbtable\", \"gold_sales_total_by_store_year\") \\\n",
        "    .option(\"user\", usuario) \\\n",
        "    .option(\"password\", password) \\\n",
        "    .mode(\"overwrite\") \\\n",
        "    .save()\n",
        "\n",
        "gold_top15_products.write \\\n",
        "    .format(\"jdbc\") \\\n",
        "    .option(\"url\", jdbc_url) \\\n",
        "    .option(\"dbtable\", \"gold_top15_products\") \\\n",
        "    .option(\"user\", usuario) \\\n",
        "    .option(\"password\", password) \\\n",
        "    .mode(\"overwrite\") \\\n",
        "    .save()"
      ]
    }
  ],
  "metadata": {
    "description": null,
    "kernel_info": {
      "name": "synapse_pyspark"
    },
    "kernelspec": {
      "display_name": "Synapse PySpark",
      "language": "Python",
      "name": "synapse_pyspark"
    },
    "language_info": {
      "name": "python"
    },
    "save_output": true,
    "synapse_widget": {
      "state": {},
      "version": "0.1"
    }
  },
  "nbformat": 4,
  "nbformat_minor": 2
}
